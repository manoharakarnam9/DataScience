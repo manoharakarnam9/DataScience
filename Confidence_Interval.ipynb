{
  "cells": [
    {
      "cell_type": "markdown",
      "metadata": {
        "id": "view-in-github",
        "colab_type": "text"
      },
      "source": [
        "<a href=\"https://colab.research.google.com/github/manoharakarnam9/DataScience/blob/main/Confidence_Interval.ipynb\" target=\"_parent\"><img src=\"https://colab.research.google.com/assets/colab-badge.svg\" alt=\"Open In Colab\"/></a>"
      ]
    },
    {
      "cell_type": "code",
      "execution_count": null,
      "metadata": {
        "id": "gJ0n29s3m4vj"
      },
      "outputs": [],
      "source": [
        "from scipy import stats\n",
        "import pandas as pd\n",
        "import numpy as np\n"
      ]
    },
    {
      "cell_type": "code",
      "execution_count": null,
      "metadata": {
        "id": "EbmxdOv0m4v1"
      },
      "outputs": [],
      "source": [
        "glaxo_df=pd.read_csv('/content/glaxo_df.csv')\n"
      ]
    },
    {
      "cell_type": "code",
      "execution_count": null,
      "metadata": {
        "id": "20rqNOiwm4v4",
        "outputId": "91e86dce-f523-48c6-d14d-23584006c311"
      },
      "outputs": [
        {
          "name": "stdout",
          "output_type": "stream",
          "text": [
            "Gain at 95% confidence interval is: [-0.0258  0.0266]\n"
          ]
        }
      ],
      "source": [
        "glaxo_df_ci = stats.norm.interval(0.95,\n",
        "loc = glaxo_df.gain.mean(),\n",
        "scale = glaxo_df.gain.std())\n",
        "print( 'Gain at 95% confidence interval is:', np.round(glaxo_df_ci, 4))"
      ]
    },
    {
      "cell_type": "code",
      "execution_count": null,
      "metadata": {
        "id": "pWuLj7rLm4v-"
      },
      "outputs": [],
      "source": [
        "beml_df=pd.read_csv('/content/beml_df.csv')\n",
        "\n",
        "beml_df_ci = stats. norm.interval(0.95,\n",
        "loc=beml_df.gain.mean(),\n",
        "scale=beml_df.gain.std())"
      ]
    },
    {
      "cell_type": "code",
      "execution_count": null,
      "metadata": {
        "id": "IVyd1KQim4wB"
      },
      "outputs": [],
      "source": [
        ""
      ]
    }
  ],
  "metadata": {
    "kernelspec": {
      "display_name": "Python 3",
      "language": "python",
      "name": "python3"
    },
    "language_info": {
      "codemirror_mode": {
        "name": "ipython",
        "version": 3
      },
      "file_extension": ".py",
      "mimetype": "text/x-python",
      "name": "python",
      "nbconvert_exporter": "python",
      "pygments_lexer": "ipython3",
      "version": "3.7.4"
    },
    "colab": {
      "name": "Confidence Interval.ipynb",
      "provenance": [],
      "collapsed_sections": [],
      "include_colab_link": true
    }
  },
  "nbformat": 4,
  "nbformat_minor": 0
}